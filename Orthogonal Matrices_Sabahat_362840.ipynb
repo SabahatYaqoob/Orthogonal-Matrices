{
 "cells": [
  {
   "cell_type": "markdown",
   "id": "16dc2b4e",
   "metadata": {},
   "source": [
    "# Assignment: Orthogonal Matrices\n",
    "\n",
    "## Name: Sabahat Yaqoob\n",
    "## Roll number: 362840\n"
   ]
  },
  {
   "cell_type": "markdown",
   "id": "0be92055",
   "metadata": {},
   "source": [
    "### Create an orthogonal matrix Q. Show that Q*transpose(Q) = I. Show that Q*inverse(Q) = I."
   ]
  },
  {
   "cell_type": "code",
   "execution_count": 5,
   "id": "4ae0c086",
   "metadata": {},
   "outputs": [
    {
     "name": "stdout",
     "output_type": "stream",
     "text": [
      "[[1 0 0]\n",
      " [0 1 0]\n",
      " [0 0 1]]\n"
     ]
    }
   ],
   "source": [
    "import numpy as np\n",
    "Q= np.matrix([[0, -1, 0],[1, 0, 0],[0, 0, -1]])\n",
    "Q_transpose= Q.transpose()\n",
    "A1= np.dot(Q_transpose,Q)\n",
    "print(A1)"
   ]
  },
  {
   "cell_type": "code",
   "execution_count": 6,
   "id": "e71dadae",
   "metadata": {},
   "outputs": [
    {
     "name": "stdout",
     "output_type": "stream",
     "text": [
      "[[1. 0. 0.]\n",
      " [0. 1. 0.]\n",
      " [0. 0. 1.]]\n"
     ]
    }
   ],
   "source": [
    "Q_inverse= np.linalg.inv(Q)\n",
    "A2= np.dot(Q_inverse,Q)\n",
    "print(A2)"
   ]
  }
 ],
 "metadata": {
  "kernelspec": {
   "display_name": "Python 3",
   "language": "python",
   "name": "python3"
  },
  "language_info": {
   "codemirror_mode": {
    "name": "ipython",
    "version": 3
   },
   "file_extension": ".py",
   "mimetype": "text/x-python",
   "name": "python",
   "nbconvert_exporter": "python",
   "pygments_lexer": "ipython3",
   "version": "3.8.8"
  }
 },
 "nbformat": 4,
 "nbformat_minor": 5
}
